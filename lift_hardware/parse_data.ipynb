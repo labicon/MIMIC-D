{
 "cells": [
  {
   "cell_type": "code",
   "execution_count": 7,
   "id": "31ca7d10",
   "metadata": {},
   "outputs": [],
   "source": [
    "import numpy as np\n",
    "np.set_printoptions(threshold=np.inf, suppress=True)\n",
    "import matplotlib.pyplot as plt\n",
    "from scipy.spatial.transform import Rotation as R\n",
    "from utils.transform_utils import *"
   ]
  },
  {
   "cell_type": "code",
   "execution_count": 8,
   "id": "d4d34a85",
   "metadata": {},
   "outputs": [],
   "source": [
    "data = np.load(\"rollouts/mode1_closetoxarm/episode_0.pkl\", \"rb\", allow_pickle=True)"
   ]
  },
  {
   "cell_type": "code",
   "execution_count": 9,
   "id": "3abd8323",
   "metadata": {},
   "outputs": [
    {
     "data": {
      "text/plain": [
       "(4223, 17)"
      ]
     },
     "execution_count": 9,
     "metadata": {},
     "output_type": "execute_result"
    }
   ],
   "source": [
    "np.shape(data)"
   ]
  },
  {
   "cell_type": "code",
   "execution_count": 16,
   "id": "4eecbd05",
   "metadata": {},
   "outputs": [
    {
     "name": "stdout",
     "output_type": "stream",
     "text": [
      "(4223, 4)\n",
      "(4223, 6)\n"
     ]
    }
   ],
   "source": [
    "qs = data[:, 11:15]\n",
    "print(np.shape(qs))\n",
    "rot6d = np.stack([quat_to_rot6d(q)     # quat_to_rot6d(q) → (6,)\n",
    "                  for q in qs],\n",
    "                 axis=0)\n",
    "print(np.shape(rot6d))"
   ]
  },
  {
   "cell_type": "code",
   "execution_count": 6,
   "id": "9b6e8315",
   "metadata": {},
   "outputs": [
    {
     "name": "stdout",
     "output_type": "stream",
     "text": [
      "(423, 17)\n"
     ]
    }
   ],
   "source": [
    "sparse_data = data[::10, :]\n",
    "print(np.shape(sparse_data))"
   ]
  },
  {
   "cell_type": "code",
   "execution_count": 20,
   "id": "89a004e1",
   "metadata": {},
   "outputs": [],
   "source": [
    "from scipy.spatial.transform import Rotation as R\n",
    "\n",
    "def quaternions_to_rotvecs(data: np.ndarray) -> np.ndarray:\n",
    "    if data.ndim != 2 or data.shape[1] != 17:\n",
    "        raise ValueError(f\"Expected input shape (N,17), got {data.shape}\")\n",
    "\n",
    "    # Extract the two quaternion blocks: each is shape (N, 4) in (w, x, y, z) order.\n",
    "    q1 = data[:, 3:7]    # columns 3–6\n",
    "    q2 = data[:, 11:15]  # columns 12–15\n",
    "    # rpy = R.from_quat(q2).as_rotvec()\n",
    "\n",
    "    # Build Rotation objects and convert to rotation vectors\n",
    "    rot1 = R.from_quat(q1).as_rotvec()  # shape (N, 3)\n",
    "    rot2 = R.from_quat(q2).as_rotvec()  # shape (N, 3)\n",
    "    # rot2 = R.from_euler('xyz', rpy).as_rotvec()  # shape (N, 3)\n",
    "\n",
    "    out = np.concatenate([\n",
    "        data[:, 0:3],     # kinova position\n",
    "        rot1,             # kinova rotation vector\n",
    "        data[:, 7:8],     # kinova gripper\n",
    "        data[:, 8:11],    # xarm position\n",
    "        rot2,             # xarm rotation vector\n",
    "        data[:, 15:16],   # xarm gripper\n",
    "    ], axis=1)\n",
    "\n",
    "    # Verify result has shape (N, 15)\n",
    "    assert out.shape[1] == 14, f\"Output has wrong shape {out.shape}\"\n",
    "    return out\n"
   ]
  },
  {
   "cell_type": "code",
   "execution_count": 22,
   "id": "3c44d00c",
   "metadata": {},
   "outputs": [],
   "source": [
    "from scipy.spatial.transform import Rotation as R\n",
    "\n",
    "def quaternions_to_rotmats(data: np.ndarray) -> np.ndarray:\n",
    "    if data.ndim != 2 or data.shape[1] != 17:\n",
    "        raise ValueError(f\"Expected input shape (N,17), got {data.shape}\")\n",
    "\n",
    "    # Extract the two quaternion blocks: each is shape (N, 4) in (w, x, y, z) order.\n",
    "    q1 = data[:, 3:7]    # columns 3–6\n",
    "    q2 = data[:, 11:15]  # columns 12–15\n",
    "    # rpy = R.from_quat(q2).as_rotvec()\n",
    "\n",
    "    # Build Rotation objects and convert to rotation vectors\n",
    "    rot_mat1 = np.stack([quat_to_rot6d(q)\n",
    "                  for q in q1],\n",
    "                 axis=0)\n",
    "    rot_mat2 = np.stack([quat_to_rot6d(q)\n",
    "                  for q in q2],\n",
    "                 axis=0)\n",
    "\n",
    "    out = np.concatenate([\n",
    "        data[:, 0:3],     # kinova position\n",
    "        rot_mat1,             # kinova rotation matrix\n",
    "        data[:, 7:8],     # kinova gripper\n",
    "        data[:, 8:11],    # xarm position\n",
    "        rot_mat2,             # xarm rotation matrix\n",
    "        data[:, 15:16],   # xarm gripper\n",
    "    ], axis=1)\n",
    "\n",
    "    assert out.shape[1] == 20, f\"Output has wrong shape {out.shape}\"\n",
    "    return out"
   ]
  },
  {
   "cell_type": "code",
   "execution_count": 3,
   "id": "622c6c8b",
   "metadata": {},
   "outputs": [
    {
     "name": "stdout",
     "output_type": "stream",
     "text": [
      "777\n",
      "775\n",
      "489\n",
      "754\n",
      "428\n",
      "732\n",
      "646\n",
      "473\n",
      "383\n",
      "691\n"
     ]
    }
   ],
   "source": [
    "mode1_list = []\n",
    "mode1_lens = []\n",
    "for i in range(14):\n",
    "    try:\n",
    "        data = np.load(\"rollouts/mode1_closetoxarm/episode_{}.pkl\".format(i), \"rb\", allow_pickle=True)\n",
    "        data = quaternions_to_rotvecs(data)\n",
    "        pad_num = 5000 - len(data)\n",
    "        print(pad_num)\n",
    "        for _ in range(pad_num):\n",
    "            data = np.vstack([data, data[-1]])\n",
    "        mode1_list.append(data)\n",
    "        mode1_lens.append(len(data))\n",
    "    except FileNotFoundError:\n",
    "        pass"
   ]
  },
  {
   "cell_type": "code",
   "execution_count": 23,
   "id": "821f135e",
   "metadata": {},
   "outputs": [
    {
     "name": "stdout",
     "output_type": "stream",
     "text": [
      "155\n",
      "155\n",
      "97\n",
      "150\n",
      "85\n",
      "146\n",
      "129\n",
      "94\n",
      "76\n",
      "138\n"
     ]
    }
   ],
   "source": [
    "mode1_sparse_list = []\n",
    "mode1_sparse_lens = []\n",
    "for i in range(14):\n",
    "    try:\n",
    "        data = np.load(\"rollouts/mode1_closetoxarm/episode_{}.pkl\".format(i), \"rb\", allow_pickle=True)\n",
    "        data = data[::5, :]\n",
    "        data = quaternions_to_rotmats(data)\n",
    "        pad_num = 1000 - len(data)\n",
    "        print(pad_num)\n",
    "        for _ in range(pad_num):\n",
    "            data = np.vstack([data, data[-1]])\n",
    "        mode1_sparse_list.append(data)\n",
    "        mode1_sparse_lens.append(len(data))\n",
    "    except FileNotFoundError:\n",
    "        pass"
   ]
  },
  {
   "cell_type": "code",
   "execution_count": 4,
   "id": "8481152b",
   "metadata": {},
   "outputs": [
    {
     "name": "stdout",
     "output_type": "stream",
     "text": [
      "Number of mode 1 episodes: 10\n",
      "Mode 1 lengths: [5000, 5000, 5000, 5000, 5000, 5000, 5000, 5000, 5000, 5000]\n",
      "Mode 1 longest episode length: 5000\n"
     ]
    }
   ],
   "source": [
    "print(\"Number of mode 1 episodes:\", len(mode1_list))\n",
    "print(\"Mode 1 lengths:\", mode1_lens)\n",
    "print(\"Mode 1 longest episode length:\", max(mode1_lens))"
   ]
  },
  {
   "cell_type": "code",
   "execution_count": 24,
   "id": "85e42f60",
   "metadata": {},
   "outputs": [
    {
     "name": "stdout",
     "output_type": "stream",
     "text": [
      "Number of mode 1 episodes: 10\n",
      "Mode 1 lengths: [1000, 1000, 1000, 1000, 1000, 1000, 1000, 1000, 1000, 1000]\n",
      "Mode 1 longest episode length: 1000\n"
     ]
    }
   ],
   "source": [
    "print(\"Number of mode 1 episodes:\", len(mode1_sparse_list))\n",
    "print(\"Mode 1 lengths:\", mode1_sparse_lens)\n",
    "print(\"Mode 1 longest episode length:\", max(mode1_sparse_lens))"
   ]
  },
  {
   "cell_type": "code",
   "execution_count": 5,
   "id": "7850a602",
   "metadata": {},
   "outputs": [
    {
     "name": "stdout",
     "output_type": "stream",
     "text": [
      "347\n",
      "396\n",
      "675\n",
      "318\n",
      "505\n",
      "100\n",
      "820\n",
      "804\n",
      "555\n",
      "521\n"
     ]
    }
   ],
   "source": [
    "mode2_list = []\n",
    "mode2_lens = []\n",
    "for i in range(11):\n",
    "    try:\n",
    "        data = np.load(\"rollouts/mode2_closetokinova/episode_{}.pkl\".format(i), \"rb\", allow_pickle=True)\n",
    "        data = quaternions_to_rotvecs(data)\n",
    "        pad_num = 5000 - len(data)\n",
    "        print(pad_num)\n",
    "        for _ in range(pad_num):\n",
    "            data = np.vstack([data, data[-1]])\n",
    "        mode2_list.append(data)\n",
    "        mode2_lens.append(len(data))\n",
    "    except FileNotFoundError:\n",
    "        pass"
   ]
  },
  {
   "cell_type": "code",
   "execution_count": 25,
   "id": "110deb2d",
   "metadata": {},
   "outputs": [
    {
     "name": "stdout",
     "output_type": "stream",
     "text": [
      "69\n",
      "79\n",
      "135\n",
      "63\n",
      "101\n",
      "20\n",
      "164\n",
      "160\n",
      "111\n",
      "104\n"
     ]
    }
   ],
   "source": [
    "mode2_sparse_list = []\n",
    "mode2_sparse_lens = []\n",
    "for i in range(11):\n",
    "    try:\n",
    "        data = np.load(\"rollouts/mode2_closetokinova/episode_{}.pkl\".format(i), \"rb\", allow_pickle=True)\n",
    "        data = data[::5, :]\n",
    "        data = quaternions_to_rotmats(data)\n",
    "        pad_num = 1000 - len(data)\n",
    "        print(pad_num)\n",
    "        for _ in range(pad_num):\n",
    "            data = np.vstack([data, data[-1]])\n",
    "        mode2_sparse_list.append(data)\n",
    "        mode2_sparse_lens.append(len(data))\n",
    "    except FileNotFoundError:\n",
    "        pass"
   ]
  },
  {
   "cell_type": "code",
   "execution_count": 6,
   "id": "b9c36e75",
   "metadata": {},
   "outputs": [
    {
     "name": "stdout",
     "output_type": "stream",
     "text": [
      "Number of mode 2 episodes: 10\n",
      "Mode 2 lengths: [5000, 5000, 5000, 5000, 5000, 5000, 5000, 5000, 5000, 5000]\n",
      "Mode 2 longest episode length: 5000\n"
     ]
    }
   ],
   "source": [
    "print(\"Number of mode 2 episodes:\", len(mode2_list))\n",
    "print(\"Mode 2 lengths:\", mode2_lens)\n",
    "print(\"Mode 2 longest episode length:\", max(mode2_lens))"
   ]
  },
  {
   "cell_type": "code",
   "execution_count": 26,
   "id": "5da04940",
   "metadata": {},
   "outputs": [
    {
     "name": "stdout",
     "output_type": "stream",
     "text": [
      "Number of mode 2 episodes: 10\n",
      "Mode 2 lengths: [1000, 1000, 1000, 1000, 1000, 1000, 1000, 1000, 1000, 1000]\n",
      "Mode 2 longest episode length: 1000\n"
     ]
    }
   ],
   "source": [
    "print(\"Number of mode 2 episodes:\", len(mode2_sparse_list))\n",
    "print(\"Mode 2 lengths:\", mode2_sparse_lens)\n",
    "print(\"Mode 2 longest episode length:\", max(mode2_sparse_lens))"
   ]
  },
  {
   "cell_type": "code",
   "execution_count": 12,
   "id": "b0dcef98",
   "metadata": {},
   "outputs": [
    {
     "name": "stdout",
     "output_type": "stream",
     "text": [
      "315\n",
      "288\n",
      "729\n",
      "606\n",
      "708\n",
      "394\n",
      "178\n",
      "671\n",
      "318\n",
      "636\n"
     ]
    }
   ],
   "source": [
    "mode3_list = []\n",
    "mode3_lens = []\n",
    "for i in range(11):\n",
    "    try:\n",
    "        data = np.load(\"rollouts/mode3_over/episode_{}.pkl\".format(i), \"rb\", allow_pickle=True)\n",
    "        data = quaternions_to_rotvecs(data)\n",
    "        pad_num = 5000 - len(data)\n",
    "        print(pad_num)\n",
    "        for _ in range(pad_num):\n",
    "            data = np.vstack([data, data[-1]])\n",
    "        mode3_list.append(data)\n",
    "        mode3_lens.append(len(data))\n",
    "    except FileNotFoundError:\n",
    "        pass"
   ]
  },
  {
   "cell_type": "code",
   "execution_count": 14,
   "id": "5f62c45c",
   "metadata": {},
   "outputs": [
    {
     "name": "stdout",
     "output_type": "stream",
     "text": [
      "31\n",
      "28\n",
      "72\n",
      "60\n",
      "70\n",
      "39\n",
      "17\n",
      "67\n",
      "31\n",
      "63\n"
     ]
    }
   ],
   "source": [
    "mode3_sparse_list = []\n",
    "mode3_sparse_lens = []\n",
    "for i in range(11):\n",
    "    try:\n",
    "        data = np.load(\"rollouts/mode3_over/episode_{}.pkl\".format(i), \"rb\", allow_pickle=True)\n",
    "        data = quaternions_to_rotvecs(data)\n",
    "        data = data[::10, :]\n",
    "        pad_num = 500 - len(data)\n",
    "        print(pad_num)\n",
    "        for _ in range(pad_num):\n",
    "            data = np.vstack([data, data[-1]])\n",
    "        mode3_sparse_list.append(data)\n",
    "        mode3_sparse_lens.append(len(data))\n",
    "    except FileNotFoundError:\n",
    "        pass"
   ]
  },
  {
   "cell_type": "code",
   "execution_count": 13,
   "id": "b8b47d97",
   "metadata": {},
   "outputs": [
    {
     "name": "stdout",
     "output_type": "stream",
     "text": [
      "Number of mode 3 episodes: 10\n",
      "Mode 3 lengths: [5000, 5000, 5000, 5000, 5000, 5000, 5000, 5000, 5000, 5000]\n",
      "Mode 3 longest episode length: 5000\n"
     ]
    }
   ],
   "source": [
    "print(\"Number of mode 3 episodes:\", len(mode3_list))\n",
    "print(\"Mode 3 lengths:\", mode3_lens)\n",
    "print(\"Mode 3 longest episode length:\", max(mode3_lens))"
   ]
  },
  {
   "cell_type": "code",
   "execution_count": 15,
   "id": "6cf3df3d",
   "metadata": {},
   "outputs": [
    {
     "name": "stdout",
     "output_type": "stream",
     "text": [
      "Number of mode 3 episodes: 10\n",
      "Mode 3 lengths: [500, 500, 500, 500, 500, 500, 500, 500, 500, 500]\n",
      "Mode 3 longest episode length: 500\n"
     ]
    }
   ],
   "source": [
    "print(\"Number of mode 3 episodes:\", len(mode3_sparse_list))\n",
    "print(\"Mode 3 lengths:\", mode3_sparse_lens)\n",
    "print(\"Mode 3 longest episode length:\", max(mode3_sparse_lens))"
   ]
  },
  {
   "cell_type": "code",
   "execution_count": 14,
   "id": "6b811516",
   "metadata": {},
   "outputs": [
    {
     "data": {
      "text/plain": [
       "(5000, 14)"
      ]
     },
     "execution_count": 14,
     "metadata": {},
     "output_type": "execute_result"
    }
   ],
   "source": [
    "np.shape(mode1_list[0])"
   ]
  },
  {
   "cell_type": "code",
   "execution_count": 27,
   "id": "1cfa50ef",
   "metadata": {},
   "outputs": [
    {
     "data": {
      "text/plain": [
       "(1000, 20)"
      ]
     },
     "execution_count": 27,
     "metadata": {},
     "output_type": "execute_result"
    }
   ],
   "source": [
    "np.shape(mode1_sparse_list[0])"
   ]
  },
  {
   "cell_type": "code",
   "execution_count": 7,
   "id": "77ff6b66",
   "metadata": {},
   "outputs": [],
   "source": [
    "mode1 = np.array(mode1_list)\n",
    "mode2 = np.array(mode2_list)\n",
    "# mode3 = np.array(mode3_list)"
   ]
  },
  {
   "cell_type": "code",
   "execution_count": 28,
   "id": "13b246de",
   "metadata": {},
   "outputs": [],
   "source": [
    "mode1_sparse = np.array(mode1_sparse_list)\n",
    "mode2_sparse = np.array(mode2_sparse_list)\n",
    "# mode3_sparse = np.array(mode3_sparse_list)"
   ]
  },
  {
   "cell_type": "code",
   "execution_count": 29,
   "id": "a21cefd0",
   "metadata": {},
   "outputs": [
    {
     "ename": "NameError",
     "evalue": "name 'mode1' is not defined",
     "output_type": "error",
     "traceback": [
      "\u001b[0;31m---------------------------------------------------------------------------\u001b[0m",
      "\u001b[0;31mNameError\u001b[0m                                 Traceback (most recent call last)",
      "Cell \u001b[0;32mIn[29], line 1\u001b[0m\n\u001b[0;32m----> 1\u001b[0m np\u001b[38;5;241m.\u001b[39mshape(\u001b[43mmode1\u001b[49m)\n",
      "\u001b[0;31mNameError\u001b[0m: name 'mode1' is not defined"
     ]
    }
   ],
   "source": [
    "np.shape(mode1)"
   ]
  },
  {
   "cell_type": "code",
   "execution_count": 30,
   "id": "abd67233",
   "metadata": {},
   "outputs": [
    {
     "data": {
      "text/plain": [
       "(10, 1000, 20)"
      ]
     },
     "execution_count": 30,
     "metadata": {},
     "output_type": "execute_result"
    }
   ],
   "source": [
    "np.shape(mode1_sparse)"
   ]
  },
  {
   "cell_type": "code",
   "execution_count": 9,
   "id": "21d6cd32",
   "metadata": {},
   "outputs": [
    {
     "name": "stdout",
     "output_type": "stream",
     "text": [
      "(20, 5000, 14)\n"
     ]
    }
   ],
   "source": [
    "expert_states = np.concatenate([mode1, mode2], axis=0)\n",
    "print(np.shape(expert_states))"
   ]
  },
  {
   "cell_type": "code",
   "execution_count": 31,
   "id": "531f6d38",
   "metadata": {},
   "outputs": [
    {
     "name": "stdout",
     "output_type": "stream",
     "text": [
      "(20, 1000, 20)\n"
     ]
    }
   ],
   "source": [
    "expert_states_sparse = np.concatenate([mode1_sparse, mode2_sparse], axis=0)\n",
    "print(np.shape(expert_states_sparse))"
   ]
  },
  {
   "cell_type": "code",
   "execution_count": 33,
   "id": "c776b12d",
   "metadata": {},
   "outputs": [
    {
     "data": {
      "image/png": "[encoded data removed]",
      "text/plain": [
       "<Figure size 640x480 with 1 Axes>"
      ]
     },
     "metadata": {},
     "output_type": "display_data"
    }
   ],
   "source": [
    "from mpl_toolkits.mplot3d import Axes3D\n",
    "\n",
    "def plot_trajectories(arr: np.ndarray, i: int):\n",
    "    \"\"\"\n",
    "    Plots arr[i, :, :3] and arr[i, :, 7:10] in 3D.\n",
    "\n",
    "    Parameters\n",
    "    ----------\n",
    "    arr : ndarray\n",
    "        Array of shape (20, 5000, 14).\n",
    "    i : int\n",
    "        Which of the 20 trajectories to plot.\n",
    "    \"\"\"\n",
    "    # Extract the two 3D trajectories\n",
    "    x1, y1, z1 = arr[i, :, 0], arr[i, :, 1], arr[i, :, 2]\n",
    "    x2, y2, z2 = arr[i, :, 10], arr[i, :, 11], arr[i, :, 12]\n",
    "\n",
    "    fig = plt.figure()\n",
    "    ax = fig.add_subplot(111, projection='3d')\n",
    "    ax.plot(x1, y1, z1)\n",
    "    ax.plot(x2, y2, z2)\n",
    "    ax.set_xlabel('X')\n",
    "    ax.set_ylabel('Y')\n",
    "    ax.set_zlabel('Z')\n",
    "    ax.set_title(f'3D Trajectories for index = {i}')\n",
    "    plt.show()\n",
    "\n",
    "# Example: change `i` below to plot a different sample\n",
    "plot_trajectories(expert_states_sparse, i=0)"
   ]
  },
  {
   "cell_type": "code",
   "execution_count": 12,
   "id": "19277b39",
   "metadata": {},
   "outputs": [],
   "source": [
    "np.save(\"data/expert_actions_rotvec_5000.npy\", expert_states)"
   ]
  },
  {
   "cell_type": "code",
   "execution_count": null,
   "id": "9d3af59b",
   "metadata": {},
   "outputs": [],
   "source": [
    "np.save(\"data/expert_actions_rotvec_sparse_1000.npy\", expert_states_sparse)"
   ]
  },
  {
   "cell_type": "code",
   "execution_count": 35,
   "id": "b03c71cf",
   "metadata": {},
   "outputs": [],
   "source": [
    "np.save(\"data/expert_actions_rotmat_sparse_1000.npy\", expert_states_sparse)"
   ]
  },
  {
   "cell_type": "code",
   "execution_count": 32,
   "id": "e79bf992",
   "metadata": {},
   "outputs": [],
   "source": [
    "pot_states1 = []\n",
    "pot_states2 = []\n",
    "\n",
    "for traj in mode1_sparse:\n",
    "    diff_mask = np.abs(traj[:, 6] - traj[0, 6]) > 0.001\n",
    "    changed_indices = np.nonzero(diff_mask)[0]\n",
    "    desired_idx = None\n",
    "    for idx in changed_indices:\n",
    "        if idx > 0:\n",
    "            desired_idx = idx\n",
    "            break\n",
    "    pot_states1.append(traj[desired_idx, :3])\n",
    "\n",
    "    diff_mask = np.abs(traj[:, 13] - traj[0, 13]) > 0.001\n",
    "    changed_indices = np.nonzero(diff_mask)[0]\n",
    "    desired_idx = None\n",
    "    for idx in changed_indices:\n",
    "        if idx > 0:\n",
    "            desired_idx = idx\n",
    "            break\n",
    "    pot_states2.append(traj[desired_idx, 7:10])\n",
    "\n",
    "for traj in mode2_sparse:\n",
    "    diff_mask = np.abs(traj[:, 6] - traj[0, 6]) > 0.001\n",
    "    changed_indices = np.nonzero(diff_mask)[0]\n",
    "    desired_idx = None\n",
    "    for idx in changed_indices:\n",
    "        if idx > 0:\n",
    "            desired_idx = idx\n",
    "            break\n",
    "    pot_states1.append(traj[desired_idx, :3])\n",
    "\n",
    "    diff_mask = np.abs(traj[:, 13] - traj[0, 13]) > 0.001\n",
    "    changed_indices = np.nonzero(diff_mask)[0]\n",
    "    desired_idx = None\n",
    "    for idx in changed_indices:\n",
    "        if idx > 0:\n",
    "            desired_idx = idx\n",
    "            break\n",
    "    pot_states2.append(traj[desired_idx, 7:10])\n"
   ]
  },
  {
   "cell_type": "code",
   "execution_count": 33,
   "id": "4e4d3a43",
   "metadata": {},
   "outputs": [
    {
     "data": {
      "text/plain": [
       "(20, 3)"
      ]
     },
     "execution_count": 33,
     "metadata": {},
     "output_type": "execute_result"
    }
   ],
   "source": [
    "np.shape(pot_states2)"
   ]
  },
  {
   "cell_type": "code",
   "execution_count": 34,
   "id": "facbacb9",
   "metadata": {},
   "outputs": [],
   "source": [
    "pot_states1 = np.array(pot_states1)\n",
    "pot_states2 = np.array(pot_states2)"
   ]
  },
  {
   "cell_type": "code",
   "execution_count": 16,
   "id": "d545ef6c",
   "metadata": {},
   "outputs": [
    {
     "data": {
      "text/plain": [
       "(20, 3)"
      ]
     },
     "execution_count": 16,
     "metadata": {},
     "output_type": "execute_result"
    }
   ],
   "source": [
    "np.shape(pot_states1)"
   ]
  },
  {
   "cell_type": "code",
   "execution_count": 35,
   "id": "e12f4d9f",
   "metadata": {},
   "outputs": [
    {
     "name": "stdout",
     "output_type": "stream",
     "text": [
      "(20, 6)\n"
     ]
    }
   ],
   "source": [
    "pot_states = np.hstack([pot_states1, pot_states2])\n",
    "print(np.shape(pot_states))"
   ]
  },
  {
   "cell_type": "code",
   "execution_count": 36,
   "id": "280f24e5",
   "metadata": {},
   "outputs": [
    {
     "name": "stdout",
     "output_type": "stream",
     "text": [
      "[ 0.47816622 -0.14264476  0.09862956  0.20981865  0.0048536   0.02984436]\n",
      "[ 0.47816622 -0.14264476  0.09862956]\n",
      "[0.20981865 0.0048536  0.02984436]\n"
     ]
    }
   ],
   "source": [
    "print(pot_states[0])\n",
    "print(pot_states1[0])\n",
    "print(pot_states2[0])"
   ]
  },
  {
   "cell_type": "code",
   "execution_count": 37,
   "id": "05d0093c",
   "metadata": {},
   "outputs": [],
   "source": [
    "np.save(\"data/pot_states1_1000.npy\", pot_states1)\n",
    "np.save(\"data/pot_states2_1000.npy\", pot_states2)\n",
    "np.save(\"data/pot_states_1000.npy\", pot_states)"
   ]
  },
  {
   "cell_type": "code",
   "execution_count": null,
   "id": "bbd2774e",
   "metadata": {},
   "outputs": [],
   "source": []
  }
 ],
 "metadata": {
  "kernelspec": {
   "display_name": "mult_diff",
   "language": "python",
   "name": "python3"
  },
  "language_info": {
   "codemirror_mode": {
    "name": "ipython",
    "version": 3
   },
   "file_extension": ".py",
   "mimetype": "text/x-python",
   "name": "python",
   "nbconvert_exporter": "python",
   "pygments_lexer": "ipython3",
   "version": "3.9.20"
  }
 },
 "nbformat": 4,
 "nbformat_minor": 5
}
